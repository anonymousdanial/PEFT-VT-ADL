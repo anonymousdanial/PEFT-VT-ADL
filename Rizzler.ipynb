{
 "cells": [
  {
   "cell_type": "markdown",
   "metadata": {
    "_cell_guid": "b1076dfc-b9ad-4769-8c92-a6c4dae69d19",
    "_uuid": "8f2839f25d086af736a60e9eeb907d3b93b6e0e5",
    "editable": false
   },
   "source": [
    "# Overview\n",
    "\n",
    "We can use one pretrained base model for multiple tasks by simply loading a new adapter(LoRA model) finetuned for the specific task. And this is needed PEFT as the backend."
   ]
  },
  {
   "cell_type": "code",
   "execution_count": null,
   "metadata": {
    "editable": false,
    "execution": {
     "iopub.execute_input": "2024-01-09T11:11:36.915297Z",
     "iopub.status.busy": "2024-01-09T11:11:36.914916Z",
     "iopub.status.idle": "2024-01-09T11:12:03.606564Z",
     "shell.execute_reply": "2024-01-09T11:12:03.605544Z",
     "shell.execute_reply.started": "2024-01-09T11:11:36.915266Z"
    },
    "trusted": true
   },
   "outputs": [
    {
     "ename": "",
     "evalue": "",
     "output_type": "error",
     "traceback": [
      "\u001b[1;31mRunning cells with 'vengeance (Python 3.10.18)' requires the ipykernel package.\n",
      "\u001b[1;31mInstall 'ipykernel' into the Python environment. \n",
      "\u001b[1;31mCommand: '\"/Users/dania/code/Emerging Technologies/vengeance/bin/python\" -m pip install ipykernel -U --force-reinstall'"
     ]
    }
   ],
   "source": [
    "# !pip install diffusers==0.25.0\n",
    "# !pip install peft==0.7.1\n"
   ]
  },
  {
   "cell_type": "code",
   "execution_count": null,
   "metadata": {
    "editable": false,
    "execution": {
     "iopub.execute_input": "2024-01-09T11:12:03.609294Z",
     "iopub.status.busy": "2024-01-09T11:12:03.608977Z",
     "iopub.status.idle": "2024-01-09T11:13:35.047018Z",
     "shell.execute_reply": "2024-01-09T11:13:35.04619Z",
     "shell.execute_reply.started": "2024-01-09T11:12:03.609266Z"
    },
    "trusted": true
   },
   "outputs": [],
   "source": [
    "import torch\n",
    "from diffusers import DiffusionPipeline\n",
    "\n",
    "pipe=DiffusionPipeline.from_pretrained(\n",
    "    \"stabilityai/stable-diffusion-xl-base-1.0\",\n",
    "    torch_dtype=torch.float16,\n",
    ").to('cuda')"
   ]
  },
  {
   "cell_type": "code",
   "execution_count": null,
   "metadata": {
    "editable": false,
    "execution": {
     "iopub.execute_input": "2024-01-09T11:13:35.04901Z",
     "iopub.status.busy": "2024-01-09T11:13:35.048253Z",
     "iopub.status.idle": "2024-01-09T11:13:38.854435Z",
     "shell.execute_reply": "2024-01-09T11:13:38.853536Z",
     "shell.execute_reply.started": "2024-01-09T11:13:35.048973Z"
    },
    "trusted": true
   },
   "outputs": [],
   "source": [
    "pipe.load_lora_weights(\n",
    "    \"peft-internal-testing/artificialguybr__3DRedmond-V1\",\n",
    "    weight_name=\"3DRedmond-3DRenderStyle-3DRenderAF.safetensors\",\n",
    "    adapter_name=\"3d\"\n",
    ")"
   ]
  },
  {
   "cell_type": "code",
   "execution_count": null,
   "metadata": {
    "editable": false,
    "execution": {
     "iopub.execute_input": "2024-01-09T11:13:38.85632Z",
     "iopub.status.busy": "2024-01-09T11:13:38.85593Z",
     "iopub.status.idle": "2024-01-09T11:14:31.828017Z",
     "shell.execute_reply": "2024-01-09T11:14:31.827013Z",
     "shell.execute_reply.started": "2024-01-09T11:13:38.856282Z"
    },
    "trusted": true
   },
   "outputs": [],
   "source": [
    "image=pipe(\"A cat likes a human that take a cup of coffe in Melbourne CBD\").images[0]\n",
    "image"
   ]
  },
  {
   "cell_type": "markdown",
   "metadata": {
    "editable": false
   },
   "source": [
    "# Changed to a new adapter"
   ]
  },
  {
   "cell_type": "code",
   "execution_count": null,
   "metadata": {
    "editable": false,
    "execution": {
     "iopub.execute_input": "2024-01-09T11:14:31.831055Z",
     "iopub.status.busy": "2024-01-09T11:14:31.830437Z",
     "iopub.status.idle": "2024-01-09T11:14:37.622902Z",
     "shell.execute_reply": "2024-01-09T11:14:37.622016Z",
     "shell.execute_reply.started": "2024-01-09T11:14:31.831021Z"
    },
    "trusted": true
   },
   "outputs": [],
   "source": [
    "pipe.load_lora_weights(\n",
    "    \"ostris/super-cereal-sdxl-lora\",\n",
    "    weight_name=\"cereal_box_sdxl_v1.safetensors\",\n",
    "    adapter_name=\"cereal\"\n",
    ")\n",
    "\n",
    "pipe.set_adapters(\"cereal\")"
   ]
  },
  {
   "cell_type": "code",
   "execution_count": null,
   "metadata": {
    "editable": false,
    "execution": {
     "iopub.execute_input": "2024-01-09T11:14:37.624209Z",
     "iopub.status.busy": "2024-01-09T11:14:37.623927Z",
     "iopub.status.idle": "2024-01-09T11:15:32.918093Z",
     "shell.execute_reply": "2024-01-09T11:15:32.916859Z",
     "shell.execute_reply.started": "2024-01-09T11:14:37.62416Z"
    },
    "trusted": true
   },
   "outputs": [],
   "source": [
    "image=pipe(\"A cat likes a human take a cup of coffe in Melbourne CBD\").images[0]\n",
    "image"
   ]
  }
 ],
 "metadata": {
  "kaggle": {
   "accelerator": "nvidiaTeslaT4",
   "dataSources": [],
   "dockerImageVersionId": 30626,
   "isGpuEnabled": true,
   "isInternetEnabled": false,
   "language": "python",
   "sourceType": "notebook"
  },
  "kernelspec": {
   "display_name": "vengeance",
   "language": "python",
   "name": "python3"
  },
  "language_info": {
   "codemirror_mode": {
    "name": "ipython",
    "version": 3
   },
   "file_extension": ".py",
   "mimetype": "text/x-python",
   "name": "python",
   "nbconvert_exporter": "python",
   "pygments_lexer": "ipython3",
   "version": "3.10.18"
  }
 },
 "nbformat": 4,
 "nbformat_minor": 4
}
